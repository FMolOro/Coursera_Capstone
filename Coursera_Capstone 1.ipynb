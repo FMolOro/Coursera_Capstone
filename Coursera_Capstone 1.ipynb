{
    "cells": [
        {
            "cell_type": "markdown",
            "metadata": {},
            "source": "![](Cabecera.png)"
        },
        {
            "cell_type": "markdown",
            "metadata": {},
            "source": "# Tarea Semana 1  para Coursera Capstone\n### (Coursera Capstone Week 1 Homework )\n#### por (by) Fidel Molina"
        },
        {
            "cell_type": "markdown",
            "metadata": {},
            "source": "Este Notebook ser\u00e1 usado principalmente para el projecto capstone para el curso de IBM y Coursera de Ciencia de Datos <br>\nThis Notebook will be used mainly fot the capstone project for the IBM and Coursera Data Science Course"
        },
        {
            "cell_type": "code",
            "execution_count": 4,
            "metadata": {},
            "outputs": [],
            "source": "import pandas as pd\nimport numpy as np"
        },
        {
            "cell_type": "code",
            "execution_count": 5,
            "metadata": {},
            "outputs": [
                {
                    "name": "stdout",
                    "output_type": "stream",
                    "text": "Hola Curso del Proyecto Capstone!\nHeloo Capston Proejct Course!\n"
                }
            ],
            "source": "print ('Hola Curso del Proyecto Capstone!')\nprint ('Heloo Capston Proejct Course!')"
        },
        {
            "cell_type": "code",
            "execution_count": 6,
            "metadata": {},
            "outputs": [],
            "source": "# The code was removed by Watson Studio for sharing."
        }
    ],
    "metadata": {
        "kernelspec": {
            "display_name": "Python 3.6",
            "language": "python",
            "name": "python3"
        },
        "language_info": {
            "codemirror_mode": {
                "name": "ipython",
                "version": 3
            },
            "file_extension": ".py",
            "mimetype": "text/x-python",
            "name": "python",
            "nbconvert_exporter": "python",
            "pygments_lexer": "ipython3",
            "version": "3.6.9"
        }
    },
    "nbformat": 4,
    "nbformat_minor": 1
}